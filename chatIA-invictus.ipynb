{
  "nbformat": 4,
  "nbformat_minor": 0,
  "metadata": {
    "colab": {
      "provenance": []
    },
    "kernelspec": {
      "name": "python3",
      "display_name": "Python 3"
    },
    "language_info": {
      "name": "python"
    }
  },
  "cells": [
    {
      "cell_type": "code",
      "source": [
        "#Importar librerías\n",
        "import openai\n",
        "import requests\n",
        "from io import BytesIO\n",
        "from PIL import Image\n",
        "\n",
        "# Configura la clave API\n",
        "openai.api_key = \"AQUI IRIA TU API KEY\"\n",
        "#Generar chat texto-texto\n",
        "def generar_chat(prompt):\n",
        "    respuesta = openai.ChatCompletion.create(\n",
        "        model=\"gpt-4o\",\n",
        "        messages=[{\"role\": \"user\", \"content\": prompt}]\n",
        "    )\n",
        "    return respuesta.choices[0].message[\"content\"]\n",
        "#Generar imagen texto-imagen\n",
        "def generar_imagen(prompt, tamaño=\"1024x1024\"):\n",
        "    respuesta = openai.Image.create(\n",
        "        model=\"dall-e-3\",\n",
        "        prompt=prompt,\n",
        "        size=tamaño\n",
        "    )\n",
        "    url_imagen = respuesta['data'][0]['url']\n",
        "    return url_imagen\n",
        "\n",
        "#Guardar imagen\n",
        "def guardar_imagen(url, nombre_archivo='imagen.png'):\n",
        "    imagen = Image.open(BytesIO(requests.get(url).content))\n",
        "    imagen.save(nombre_archivo)\n",
        "\n",
        "# Ejemplo de uso para generar chat\n",
        "prompt_chat = \"¿Podrías crearme una rutina para una persona de 32 años, 72 kg, sexo masculino, que cubra todos los músculos para entrenar 6 días a la semana?\"\n",
        "respuesta_chat = generar_chat(prompt_chat)\n",
        "print(respuesta_chat)\n",
        "\n",
        "# Solicitar prompt del usuario para generar imagen\n",
        "prompt_usuario = input(\"Ingrese su prompt: \")\n",
        "\n",
        "# Generar y guardar imagen\n",
        "url_imagen = generar_imagen(prompt_usuario)\n",
        "print(url_imagen)\n",
        "guardar_imagen(url_imagen)"
      ],
      "metadata": {
        "id": "beDWwXCznPBv"
      },
      "execution_count": null,
      "outputs": []
    }
  ]
}